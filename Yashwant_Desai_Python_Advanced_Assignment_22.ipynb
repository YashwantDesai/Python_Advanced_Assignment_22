{
 "cells": [
  {
   "cell_type": "markdown",
   "id": "0c27a818",
   "metadata": {},
   "source": [
    "# Yashwant Desai –  Python_Advanced_Assignment_22"
   ]
  },
  {
   "cell_type": "markdown",
   "id": "0bc1ab5f",
   "metadata": {},
   "source": [
    "# Q1. What are the benefits of the built-in array package, if any?"
   ]
  },
  {
   "cell_type": "markdown",
   "id": "8a5e6036",
   "metadata": {},
   "source": [
    "Python does not have a built-in \"array package\" in the same way it has built-in data structures like lists or dictionaries. However, Python does have a module called array that provides an array data type. The array module is part of the Python Standard Library, and it's used to create and manipulate arrays of data.\n",
    "\n",
    "The array module in python provides following benefits:\n",
    "\n",
    "Typed Arrays: array allows you to create arrays that can only hold elements of a single data type, making it suitable for working with homogeneous data.\n",
    "\n",
    "Efficient Memory Usage: Arrays typically use less memory compared to lists, which can be advantageous for large datasets, especially with numerical data.\n",
    "\n",
    "Faster Access: Accessing elements in an array is generally faster than accessing elements in a list because arrays provide direct memory access to their elements.\n",
    "\n",
    "Supported Numeric Data Types: The array module supports various numeric data types, which is useful for numerical computations.\n",
    "\n",
    "Array Methods: The array module provides methods for common array operations, making it more efficient and convenient for certain tasks.\n",
    "\n",
    "Below is an example."
   ]
  },
  {
   "cell_type": "code",
   "execution_count": 1,
   "id": "f97c18a5",
   "metadata": {},
   "outputs": [
    {
     "name": "stdout",
     "output_type": "stream",
     "text": [
      "1\n",
      "array('i', [1, 2, 4, 5, 6])\n"
     ]
    }
   ],
   "source": [
    "from array import array\n",
    "\n",
    "my_array = array('i', [1, 2, 3, 4, 5])\n",
    "\n",
    "print(my_array[0])\n",
    "\n",
    "my_array.append(6)\n",
    "\n",
    "my_array.remove(3)\n",
    "\n",
    "print(my_array)"
   ]
  },
  {
   "cell_type": "markdown",
   "id": "62a41b96",
   "metadata": {},
   "source": [
    "# Q2. What are some of the array package's limitations?"
   ]
  },
  {
   "cell_type": "markdown",
   "id": "8cd50a0f",
   "metadata": {},
   "source": [
    "The array module has the following limitations:\n",
    "\n",
    "o Lack of versatility: Arrays can store only elements of a single data type, making them less flexible than lists.\n",
    "\n",
    "o Limited functionality: Arrays offer a limited set of methods and operations compared to Python lists.\n",
    "\n",
    "o Fixed size: The size of an array is fixed at creation, which can be less convenient for dynamically adding or removing elements.\n",
    "\n",
    "o Fewer built-in features: Arrays lack some of the built-in features of lists, such as sorting, reversing, and comprehensions.\n",
    "\n",
    "o Integer-only indexing: Arrays only support integer indexing, while lists offer more flexible indexing options.\n",
    "\n",
    "o No mixed types: Arrays require elements to have a compatible data type, making them less suitable for mixed data types.\n",
    "\n",
    "o Less common usage: The array module is not as widely used as lists or NumPy arrays for numerical operations.\n",
    "\n",
    "o No built-in iteration protocol: Arrays don't directly support the Python iteration protocol, unlike lists."
   ]
  },
  {
   "cell_type": "markdown",
   "id": "6162a97b",
   "metadata": {},
   "source": [
    "# Q3. Describe the main differences between the array and numpy packages."
   ]
  },
  {
   "cell_type": "markdown",
   "id": "74879de6",
   "metadata": {},
   "source": [
    "Below are main differences between the array and numpy packages.\n",
    "\n",
    "o The array module provides basic support for arrays but is limited to a few numeric data types (e.g., integers and floats). It enforces that all elements must have the same data type.\n",
    "\n",
    "o NumPy provides extensive support for a wide range of data types, including complex numbers, strings, booleans, and user-defined data types\n",
    "\n",
    "o The array module offers a basic set of methods for array creation and manipulation\n",
    "\n",
    "o NumPy provides a vast collection of mathematical functions and operations for array manipulation. It provides capabilities for linear algebra, statistical analysis, and more.\n",
    "\n",
    "o The array module primarily deals with one-dimensional arrays and provides limited support for multi-dimensional arrays.\n",
    "\n",
    "o NumPy excels in handling multi-dimensional arrays. It provides convenient ways to create, reshape, and perform operations on arrays with multiple dimensions.\n",
    "\n",
    "o NumPy is highly optimized for numerical operations and is generally faster than the array module, particularly for complex mathematical computations.\n",
    "\n",
    "o Arrays created with the array module support basic indexing and slicing similar to Python lists.\n",
    "\n",
    "o NumPy provides advanced indexing and slicing techniques, making it easier to work with specific elements or subarrays within multi-dimensional arrays."
   ]
  },
  {
   "cell_type": "markdown",
   "id": "083fe946",
   "metadata": {},
   "source": [
    "# Q4. Explain the distinctions between the empty, ones, and zeros functions."
   ]
  },
  {
   "cell_type": "markdown",
   "id": "8ea0c274",
   "metadata": {},
   "source": [
    "The empty, ones, and zeros functions are used to create NumPy arrays with specific initialization values. Here are the distinctions between these functions.\n",
    "\n",
    "o empty: Creates an uninitialized array with the specified shape, data type, and memory layout.\n",
    "\n",
    "empty_array = np.empty((2, 3), dtype=int)\n",
    "\n",
    "o ones: Creates an array filled with ones with the specified shape, data type, and memory layout.\n",
    "\n",
    "ones_array = np.ones((2, 3), dtype=int)\n",
    "\n",
    "o zero: Creates an array filled with zeros with the specified shape, data type, and memory layout.\n",
    "\n",
    "zeros_array = np.zeros((2, 3), dtype=int)"
   ]
  },
  {
   "cell_type": "code",
   "execution_count": 2,
   "id": "40461b03",
   "metadata": {},
   "outputs": [],
   "source": [
    "import numpy as np\n",
    "empty_array = np.empty((2, 3), dtype=int)"
   ]
  },
  {
   "cell_type": "code",
   "execution_count": 3,
   "id": "5acb515d",
   "metadata": {},
   "outputs": [],
   "source": [
    "import numpy as np\n",
    "ones_array = np.ones((2, 3), dtype=int)"
   ]
  },
  {
   "cell_type": "code",
   "execution_count": 4,
   "id": "1314ff5f",
   "metadata": {},
   "outputs": [],
   "source": [
    "import numpy as np\n",
    "zeros_array = np.zeros((2, 3), dtype=int)"
   ]
  },
  {
   "cell_type": "markdown",
   "id": "5589105a",
   "metadata": {},
   "source": [
    "# Q5. In the fromfunction function, which is used to construct new arrays, what is the role of the callable argument?"
   ]
  },
  {
   "cell_type": "markdown",
   "id": "d5380d64",
   "metadata": {},
   "source": [
    "The fromfunction function, the role of the callable argument is to define how the values in the new output array are computed based on their coordinates. The callable function you provide takes the coordinates along each dimension as arguments and returns the corresponding value for that position in the array. This allows you to create arrays with custom or complex patterns based on the specific rules or calculations you define in the callable function"
   ]
  },
  {
   "cell_type": "code",
   "execution_count": 5,
   "id": "2c671e79",
   "metadata": {},
   "outputs": [
    {
     "name": "stdout",
     "output_type": "stream",
     "text": [
      "[[0. 1. 2.]\n",
      " [1. 2. 3.]\n",
      " [2. 3. 4.]]\n"
     ]
    }
   ],
   "source": [
    "import numpy as np\n",
    "def my_function(x, y):\n",
    "    return x + y\n",
    "shape = (3, 3)\n",
    "result = np.fromfunction(my_function, shape)\n",
    "print(result)"
   ]
  },
  {
   "cell_type": "markdown",
   "id": "d728e85e",
   "metadata": {},
   "source": [
    "# Q6. What happens when a numpy array is combined with a single-value operand (a scalar, such as an int or a floating-point value) through addition, as in the expression A + n?"
   ]
  },
  {
   "cell_type": "markdown",
   "id": "27aba3f9",
   "metadata": {},
   "source": [
    "A numpy array is combined with a single-value operand (a scalar, such as an integer or a floating-point value) through addition, as in the expression A + n, NumPy performs an element-wise addition. This means that the scalar value n is added to each element of the array A, and a new array is created with the results. The shape of the original array A and the shape of the resulting array will be the same"
   ]
  },
  {
   "cell_type": "code",
   "execution_count": 6,
   "id": "2c9a11f1",
   "metadata": {},
   "outputs": [
    {
     "name": "stdout",
     "output_type": "stream",
     "text": [
      "[11 12 13 14]\n"
     ]
    }
   ],
   "source": [
    "import numpy as np\n",
    "\n",
    "A = np.array([1, 2, 3, 4])\n",
    "n = 10\n",
    "result = A + n\n",
    "print(result)"
   ]
  },
  {
   "cell_type": "markdown",
   "id": "1c4a4442",
   "metadata": {},
   "source": [
    "# Q7. Can array-to-scalar operations use combined operation-assign operators (such as += or *=)? What is the outcome?"
   ]
  },
  {
   "cell_type": "markdown",
   "id": "9eba68c3",
   "metadata": {},
   "source": [
    "Combined operation-assign operators (e.g., +=, -=, *=) in NumPy can be used for array-to-scalar operations, and they modify the original array in-place. The specific operator is applied to each element of the array with the scalar operand, resulting in an updated array with the modified values. If you want to preserve the original array and create a new one with the modified values, you should use a separate assignment operation. These operators are convenient for efficiently performing in-place modifications on NumPy arrays.\n",
    "Below is an example."
   ]
  },
  {
   "cell_type": "code",
   "execution_count": 7,
   "id": "ab96e885",
   "metadata": {},
   "outputs": [
    {
     "name": "stdout",
     "output_type": "stream",
     "text": [
      "[3 4 5 6]\n",
      "[2 3 4 5]\n",
      "[ 4  6  8 10]\n"
     ]
    }
   ],
   "source": [
    "import numpy as np\n",
    "arr = np.array([1, 2, 3, 4])\n",
    "arr += 2 \n",
    "print(arr)  \n",
    "arr -= 1 \n",
    "print(arr)  \n",
    "arr *= 2  \n",
    "print(arr)  "
   ]
  },
  {
   "cell_type": "markdown",
   "id": "816d099b",
   "metadata": {},
   "source": [
    "# Q8. Does a numpy array contain fixed-length strings? What happens if you allocate a longer string to one of these arrays?"
   ]
  },
  {
   "cell_type": "markdown",
   "id": "9731c736",
   "metadata": {},
   "source": [
    "In NumPy, you can create arrays of fixed-length strings using the numpy.string_ data type. If you attempt to allocate a longer string to one of these arrays, NumPy will automatically truncate the string to fit the specified length. If you allocate a shorter string, it may be padded with null bytes to reach the fixed length. Fixed-length string arrays are useful when you need to enforce a specific string length for your data storage."
   ]
  },
  {
   "cell_type": "code",
   "execution_count": 8,
   "id": "daa16c04",
   "metadata": {},
   "outputs": [
    {
     "name": "stdout",
     "output_type": "stream",
     "text": [
      "[b'apple' b'banana' b'cherry']\n",
      "[b'apple' b'grapef' b'cherry']\n"
     ]
    }
   ],
   "source": [
    "import numpy as np\n",
    "string_array = np.array([\"apple\", \"banana\", \"cherry\"], dtype=np.string_)\n",
    "print(string_array)\n",
    "string_array[1] = \"grapefruit\"\n",
    "print(string_array)"
   ]
  },
  {
   "cell_type": "markdown",
   "id": "4b868d79",
   "metadata": {},
   "source": [
    "# Q9. What happens when you combine two numpy arrays using an operation like addition (+) or multiplication (*)? What are the conditions for combining two numpy arrays?"
   ]
  },
  {
   "cell_type": "markdown",
   "id": "3d19f139",
   "metadata": {},
   "source": [
    "When you combine two NumPy arrays using operations like addition (+) or multiplication (*), NumPy performs element-wise operations, applying the operation to corresponding elements of the arrays. The conditions for combining two NumPy arrays are:\n",
    "\n",
    "Element-Wise Operations: Operations are performed element-wise, resulting in a new array with the same shape as the original arrays.\n",
    "\n",
    "Shape Compatibility: The arrays being combined should have the same shape or be broadcastable to the same shape. Broadcasting is a NumPy feature that allows operations on arrays with different shapes, as long as they can be made compatible through specific rules. If the shapes are not compatible, you may encounter errors.\n",
    "\n",
    "Below is an example."
   ]
  },
  {
   "cell_type": "code",
   "execution_count": 9,
   "id": "814bac76",
   "metadata": {},
   "outputs": [
    {
     "name": "stdout",
     "output_type": "stream",
     "text": [
      "[5 7 9]\n",
      "[ 2  6 12]\n"
     ]
    }
   ],
   "source": [
    "import numpy as np\n",
    "\n",
    "array1 = np.array([1, 2, 3])\n",
    "array2 = np.array([4, 5, 6])\n",
    "result_addition = array1 + array2  \n",
    "\n",
    "array3 = np.array([1, 2, 3])\n",
    "array4 = np.array([2, 3, 4])\n",
    "result_multiplication = array3 * array4  \n",
    "\n",
    "print(result_addition)        \n",
    "print(result_multiplication) "
   ]
  },
  {
   "cell_type": "markdown",
   "id": "b5e5fb2a",
   "metadata": {},
   "source": [
    "# Q10. What is the best way to use a Boolean array to mask another array?"
   ]
  },
  {
   "cell_type": "markdown",
   "id": "4c9fb04c",
   "metadata": {},
   "source": [
    "The best way to use a Boolean array to mask (filter) another array in Python, particularly using NumPy, is to apply the Boolean array as a mask to the target array using boolean indexing. This involves selecting elements from the target array where the Boolean mask is True and ignoring elements where it is False. It's a powerful technique for data filtering and conditional selection in NumPy.\n",
    "\n",
    "Below is an example."
   ]
  },
  {
   "cell_type": "code",
   "execution_count": 10,
   "id": "35509459",
   "metadata": {},
   "outputs": [
    {
     "name": "stdout",
     "output_type": "stream",
     "text": [
      "[1 3 5]\n"
     ]
    }
   ],
   "source": [
    "import numpy as np\n",
    "boolean_mask = np.array([True, False, True, False, True])\n",
    "data_array = np.array([1, 2, 3, 4, 5])\n",
    "result = data_array[boolean_mask]\n",
    "print(result)"
   ]
  },
  {
   "cell_type": "markdown",
   "id": "2bf818d6",
   "metadata": {},
   "source": [
    "# Q11. What are three different ways to get the standard deviation of a wide collection of data using both standard Python and its packages? Sort the three of them by how quickly they execute."
   ]
  },
  {
   "cell_type": "markdown",
   "id": "f7f4cc94",
   "metadata": {},
   "source": [
    "Here are three different ways to calculate the standard deviation of a wide collection of data sorted by execution speed:\n",
    "\n",
    "o NumPy Package (Fastest): Use the numpy.std function from NumPy for highly efficient and fast standard deviation calculations, particularly suitable for numerical data.\n",
    "\n",
    "o Statistics Package (Moderate Speed): Utilize the statistics.stdev function from the built-in statistics module, which is moderately fast and suitable for standard Python data types like lists.\n",
    "\n",
    "o Pure Python (Slowest): Calculate the standard deviation from scratch using pure Python, which is the slowest and least efficient option, especially for large datasets.\n",
    "\n",
    "The choice of method depends on your specific requirements, with NumPy being the preferred choice for numerical and scientific computing due to its speed and efficiency."
   ]
  },
  {
   "cell_type": "code",
   "execution_count": 11,
   "id": "60fb755a",
   "metadata": {},
   "outputs": [],
   "source": [
    "import numpy as np\n",
    "\n",
    "data = [1.2, 2.4, 3.3, 4.1, 5.6, 6.2]\n",
    "std_dev = np.std(data)"
   ]
  },
  {
   "cell_type": "code",
   "execution_count": 12,
   "id": "fcc2c25b",
   "metadata": {},
   "outputs": [],
   "source": [
    "import statistics\n",
    "\n",
    "data = [1.2, 2.4, 3.3, 4.1, 5.6, 6.2]\n",
    "std_dev = statistics.stdev(data)"
   ]
  },
  {
   "cell_type": "code",
   "execution_count": 13,
   "id": "580742df",
   "metadata": {},
   "outputs": [],
   "source": [
    "data = [1.2, 2.4, 3.3, 4.1, 5.6, 6.2]\n",
    "n = len(data)\n",
    "mean = sum(data) / n\n",
    "squared_diff = [(x - mean) ** 2 for x in data]\n",
    "std_dev = (sum(squared_diff) / n) ** 0.5"
   ]
  },
  {
   "cell_type": "markdown",
   "id": "2e400b9e",
   "metadata": {},
   "source": [
    "# 12. What is the dimensionality of a Boolean mask-generated array?"
   ]
  },
  {
   "cell_type": "markdown",
   "id": "10ea4c46",
   "metadata": {},
   "source": [
    "The dimensionality of a Boolean mask-generated array in Python depends on the dimensionality of both the mask and the original array. The result of applying a Boolean mask is an array that retains the same dimensionality as the original array, with elements selected based on the mask. If the mask is 1D and filters a 1D array, the result is 1D. If the mask is 1D and filters a multi-dimensional array, the result is 1D, reducing dimensionality. If both the mask and the original array are multi-dimensional, the result maintains the same structure as the original array but with elements selected according to the mask.\n",
    "\n",
    "Below are examples."
   ]
  },
  {
   "cell_type": "code",
   "execution_count": 14,
   "id": "ec1614ae",
   "metadata": {},
   "outputs": [],
   "source": [
    "import numpy as np\n",
    "arr = np.array([1, 2, 3, 4, 5])\n",
    "mask = np.array([True, False, True, False, True])\n",
    "result = arr[mask] "
   ]
  },
  {
   "cell_type": "code",
   "execution_count": 15,
   "id": "73a27fab",
   "metadata": {},
   "outputs": [],
   "source": [
    "import numpy as np\n",
    "arr = np.array([[1, 2], [3, 4], [5, 6]])\n",
    "mask = np.array([True, False, True])\n",
    "result = arr[mask] "
   ]
  },
  {
   "cell_type": "code",
   "execution_count": 16,
   "id": "71e2ffc5",
   "metadata": {},
   "outputs": [],
   "source": [
    "import numpy as np\n",
    "arr = np.array([[1, 2], [3, 4], [5, 6]])\n",
    "mask = np.array([[True, False], [True, False], [True, True]])\n",
    "result = arr[mask] "
   ]
  },
  {
   "cell_type": "markdown",
   "id": "dda7d5b1",
   "metadata": {},
   "source": [
    "# Done all 12 questions "
   ]
  },
  {
   "cell_type": "markdown",
   "id": "a04469f9",
   "metadata": {},
   "source": [
    "# Regards,Yashwant"
   ]
  }
 ],
 "metadata": {
  "kernelspec": {
   "display_name": "Python 3 (ipykernel)",
   "language": "python",
   "name": "python3"
  },
  "language_info": {
   "codemirror_mode": {
    "name": "ipython",
    "version": 3
   },
   "file_extension": ".py",
   "mimetype": "text/x-python",
   "name": "python",
   "nbconvert_exporter": "python",
   "pygments_lexer": "ipython3",
   "version": "3.9.13"
  }
 },
 "nbformat": 4,
 "nbformat_minor": 5
}
